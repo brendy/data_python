{
 "cells": [
  {
   "cell_type": "code",
   "execution_count": 1,
   "metadata": {},
   "outputs": [
    {
     "name": "stdout",
     "output_type": "stream",
     "text": [
      "대구에서 열대야가 가장 많았던 해는 1994 년 이었고, 그 해 열대야는 33 일 이었습니다.\n"
     ]
    }
   ],
   "source": [
    "# 대구에서 열대야(일 최저기온 25도 이상 기준)가 가장 많았던 해는 언제였고, 그 해 열대야는 며칠이나 되었을까?\n",
    "\n",
    "import csv\n",
    "\n",
    "date = 0     # 날짜 개수\n",
    "max_date = 0 # 최대 날자 개수\n",
    "year = 1907        # 초기 년도\n",
    "max_year = 1907    # 초기 최고 열대야 연도\n",
    "\n",
    "\n",
    "f = open('dgutf8sig.csv', encoding = 'utf-8-sig')\n",
    "data = csv.reader(f)\n",
    "header = next(data)\n",
    "for row in data :\n",
    "    if row[3] == '' :\n",
    "        row[3] = -999      # -999를 넣어 빈 문자열이 있던 자리라고 표시\n",
    "    row[3] = float(row[3])  # 최저 기온을 실수로 변환\n",
    "    row_year = int(row[0].split('.')[0])\n",
    "    if year == row_year :\n",
    "        if row[3] > 25 :\n",
    "            date+=1\n",
    "    elif year < row_year :\n",
    "        if max_date < date :\n",
    "            max_date = date\n",
    "            max_year = year\n",
    "        year+=1\n",
    "        date = 0\n",
    "f.close()\n",
    "\n",
    "print('대구에서 열대야가 가장 많았던 해는', max_year,'년 이었고, 그 해 열대야는', max_date,'일 이었습니다.')"
   ]
  },
  {
   "cell_type": "code",
   "execution_count": null,
   "metadata": {},
   "outputs": [],
   "source": []
  }
 ],
 "metadata": {
  "kernelspec": {
   "display_name": "Python 3",
   "language": "python",
   "name": "python3"
  },
  "language_info": {
   "codemirror_mode": {
    "name": "ipython",
    "version": 3
   },
   "file_extension": ".py",
   "mimetype": "text/x-python",
   "name": "python",
   "nbconvert_exporter": "python",
   "pygments_lexer": "ipython3",
   "version": "3.8.3"
  }
 },
 "nbformat": 4,
 "nbformat_minor": 4
}
