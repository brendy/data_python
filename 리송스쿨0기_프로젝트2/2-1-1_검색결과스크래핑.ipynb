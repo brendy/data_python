{
 "cells": [
  {
   "cell_type": "code",
   "execution_count": 1,
   "metadata": {},
   "outputs": [
    {
     "name": "stdout",
     "output_type": "stream",
     "text": [
      "상주지진..\n",
      "지진 주민생활, 대처방안\n",
      "지진이 일어났을때 주의할점\n",
      "지진나는꿈 내공 100\n",
      "우리나라는 지진으로부터 안전한가\n",
      "지진과 화산이 발생하는 이유\n",
      "인천 지진\n",
      "최근 지진빈도가 늘어난 이유\n",
      "지진 발생\n",
      "석가탑 지진...\n",
      "가장 강력했던 지진\n",
      "지진 대응 방안\n",
      "사회 숙제입니다 지진 관련 질문\n",
      "우리나라 지진과 외국 지진 비교\n",
      "오늘목포지진\n",
      "지진전조현생\n",
      "해외 지진\n",
      "자연재해, 지진을 알려주세요.\n",
      "일본 지진에 대해 알려주세요\n",
      "통합과학 지구과학 지진\n",
      "일본 지진\n",
      "지진원인과 피해\n",
      "지진은 일종의 기상현상인가요?\n",
      "가장 위험한 지진\n",
      "우리나라 지진\n",
      "지진대 아닌곳에서 지진 발생\n",
      "제가 지진을 한 살면서 2번인가? 느\n",
      "지진 수행평가\n",
      "우리나라 역대 최대규모 지진\n",
      "포항 지진 +내공100\n"
     ]
    }
   ],
   "source": [
    "######### 검색 후 제목 스크래핑 해서 화면 출력하기 #########\n",
    "\n",
    "import requests                # http 요청 모듈\n",
    "import time\n",
    "from bs4 import BeautifulSoup  # 웹스크래핑을 위한 모듈\n",
    "\n",
    "pg = 3                         #가져올 페이지 수\n",
    "\n",
    "for i in range(1, pg + 1):\n",
    "    url = 'https://kin.naver.com/search/list.nhn?query=지진&page=' + str(i)\n",
    "    response = requests.get(url)\n",
    "    if response.status_code == 200:         # 정상 페이지 응답\n",
    "        html = response.text\n",
    "        soup = BeautifulSoup(html, 'html.parser')\n",
    "        ul = soup.select_one('ul.basic1')\n",
    "        titles = ul.select('li > dl > dt > a')\n",
    "        for title in titles:\n",
    "            print(title.get_text())\n",
    "    else :                                 # 응답 거부일 경우\n",
    "        print(response.status_code)        # 오류 코드\n",
    "        \n",
    "    time.sleep(2)"
   ]
  },
  {
   "cell_type": "code",
   "execution_count": 2,
   "metadata": {},
   "outputs": [
    {
     "name": "stdout",
     "output_type": "stream",
     "text": [
      "상주지진..\n",
      "지진 주민생활, 대처방안\n",
      "지진이 일어났을때 주의할점\n",
      "지진나는꿈 내공 100\n",
      "우리나라는 지진으로부터 안전한가\n",
      "지진과 화산이 발생하는 이유\n",
      "인천 지진\n",
      "최근 지진빈도가 늘어난 이유\n",
      "지진 발생\n",
      "석가탑 지진...\n",
      "가장 강력했던 지진\n",
      "지진 대응 방안\n",
      "사회 숙제입니다 지진 관련 질문\n",
      "우리나라 지진과 외국 지진 비교\n",
      "오늘목포지진\n",
      "지진전조현생\n",
      "해외 지진\n",
      "자연재해, 지진을 알려주세요.\n",
      "일본 지진에 대해 알려주세요\n",
      "통합과학 지구과학 지진\n",
      "일본 지진\n",
      "지진원인과 피해\n",
      "지진은 일종의 기상현상인가요?\n",
      "가장 위험한 지진\n",
      "우리나라 지진\n",
      "지진대 아닌곳에서 지진 발생\n",
      "제가 지진을 한 살면서 2번인가? 느\n",
      "지진 수행평가\n",
      "우리나라 역대 최대규모 지진\n",
      "포항 지진 +내공100\n"
     ]
    }
   ],
   "source": [
    "######### 검색 후 제목 스크래핑 해서 csv에 저장하기 #########\n",
    "# 지식인 스크래핑 https://github.com/catSirup/naver_kin_crawling\n",
    "# csv 다루기  https://devpouch.tistory.com/55\n",
    "\n",
    "import csv\n",
    "import requests\n",
    "from bs4 import BeautifulSoup\n",
    "import time\n",
    "\n",
    "f = open('write.csv','a', newline='')\n",
    "wr = csv.writer(f)\n",
    "\n",
    "pg = 3\n",
    "\n",
    "for i in range(1, pg + 1):\n",
    "    url = 'https://kin.naver.com/search/list.nhn?query=지진&page=' + str(i)\n",
    "    response = requests.get(url)\n",
    "    if response.status_code == 200:\n",
    "        html = response.text\n",
    "        soup = BeautifulSoup(html, 'html.parser')\n",
    "        ul = soup.select_one('ul.basic1')\n",
    "        titles = ul.select('li > dl > dt > a')\n",
    "        for title in titles:\n",
    "            print(title.get_text())\n",
    "            wr.writerow([title.get_text()])\n",
    "    else : \n",
    "        print(response.status_code)\n",
    "        \n",
    "    time.sleep(2)"
   ]
  },
  {
   "cell_type": "code",
   "execution_count": null,
   "metadata": {},
   "outputs": [],
   "source": []
  },
  {
   "cell_type": "code",
   "execution_count": null,
   "metadata": {},
   "outputs": [],
   "source": []
  }
 ],
 "metadata": {
  "kernelspec": {
   "display_name": "Python 3",
   "language": "python",
   "name": "python3"
  },
  "language_info": {
   "codemirror_mode": {
    "name": "ipython",
    "version": 3
   },
   "file_extension": ".py",
   "mimetype": "text/x-python",
   "name": "python",
   "nbconvert_exporter": "python",
   "pygments_lexer": "ipython3",
   "version": "3.8.3"
  }
 },
 "nbformat": 4,
 "nbformat_minor": 4
}
