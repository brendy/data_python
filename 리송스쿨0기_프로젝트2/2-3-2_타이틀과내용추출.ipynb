{
 "cells": [
  {
   "cell_type": "code",
   "execution_count": 5,
   "metadata": {},
   "outputs": [
    {
     "data": {
      "text/plain": [
       "0    물체 이동 시간 거리 질문이요 세라믹롤러 52Φ 1개가360 도 회전할때 A 물체가...\n",
       "1    이 선물은 대체 뭘까요? 1. ㅈ이랑 관련이 있습니다2. 3글자 입니다3. 레벨 업...\n",
       "2    초등4학년 과학 3단원 그림자와거울(급함) 그림자를 만들때 물체하나에 불을 켠 손전...\n",
       "3    6학년 과학 전지회로 만들기(사진 첨부함) 다 만들긴 만들었는데 원래는 뒤에 클립을...\n",
       "4    역학적에너지 중3인데요 역학적 에너지는 운동에너지 더하기 위치에너지잖아요 첫번째 사...\n",
       "5    이거 해파리인가요? 제가 오후 4시쯤에 바다주변을 걷다가 이상한 투명?한 물체가있어...\n",
       "6    초등 5학년과학 일정한 거리를 이동한 물체의 빠르기는 어떻게 비교할까요?인데요, 2...\n",
       "7    도와주세요!!!!ㅜㅜㅠㅠㅠ 안녕하세요 초등학교 5학년 입니다 실체 현미경에서 물체의...\n",
       "8    요즘너무 무서워요 안녕하세요 저는 중학교 3학년 남자입니다재가 초등학교때부터 중3까...\n",
       "9    과학문제6힉년 지구와 달의 운동 얀녕하세요 초6인데 어려운 문제가 있는데 모르겠어 ...\n",
       "dtype: object"
      ]
     },
     "execution_count": 5,
     "metadata": {},
     "output_type": "execute_result"
    }
   ],
   "source": [
    "# 타이틀과 내용글만 추출\n",
    "\n",
    "import pandas as pd\n",
    "df = pd.read_csv('./물체.csv', encoding='utf-8-sig')\n",
    "df[0:10]\n",
    "\n",
    "posts = df.get('title')+\" \"+df.get('description')\n",
    "posts[0:10]"
   ]
  }
 ],
 "metadata": {
  "kernelspec": {
   "display_name": "Python 3",
   "language": "python",
   "name": "python3"
  },
  "language_info": {
   "codemirror_mode": {
    "name": "ipython",
    "version": 3
   },
   "file_extension": ".py",
   "mimetype": "text/x-python",
   "name": "python",
   "nbconvert_exporter": "python",
   "pygments_lexer": "ipython3",
   "version": "3.8.3"
  }
 },
 "nbformat": 4,
 "nbformat_minor": 4
}
