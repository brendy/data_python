{
 "cells": [
  {
   "cell_type": "code",
   "execution_count": 1,
   "metadata": {},
   "outputs": [
    {
     "name": "stdout",
     "output_type": "stream",
     "text": [
      "동해물과\t동해물/NNG + 과/JC\n",
      "백두산이\t백두산/NNP + 이/JKS\n",
      "마르고\t마르/VV + 고/EC\n",
      "닳도록\t닳/VV + 도록/EC\n",
      "하느님이\t하느님/NNG + 이/JKS\n",
      "보우하사\t보우/NNG + 하/XSV + 사/NR\n",
      "리송school\t리송/NNG + school/SL\n",
      "만세\t만세/NNG\n"
     ]
    }
   ],
   "source": [
    "import pandas as pd\n",
    "from eunjeon import Mecab\n",
    "\n",
    "mecab = Mecab()\n",
    "\n",
    "df = pd.read_csv('./물체.csv', encoding='utf-8-sig')\n",
    "posts = df.get('title')+\" \"+df.get('description')\n",
    "\n",
    "text = \"동해물과 백두산이 마르고 닳도록 하느님이 보우하사 리송school 만세\"\n",
    "a = mecab.pos(text)\n",
    "\n",
    "print(a)\n"
   ]
  },
  {
   "cell_type": "code",
   "execution_count": null,
   "metadata": {},
   "outputs": [],
   "source": []
  }
 ],
 "metadata": {
  "kernelspec": {
   "display_name": "Python 3",
   "language": "python",
   "name": "python3"
  },
  "language_info": {
   "codemirror_mode": {
    "name": "ipython",
    "version": 3
   },
   "file_extension": ".py",
   "mimetype": "text/x-python",
   "name": "python",
   "nbconvert_exporter": "python",
   "pygments_lexer": "ipython3",
   "version": "3.8.3"
  }
 },
 "nbformat": 4,
 "nbformat_minor": 4
}
