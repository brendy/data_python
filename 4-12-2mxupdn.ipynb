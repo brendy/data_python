{
 "cells": [
  {
   "cell_type": "code",
   "execution_count": 1,
   "metadata": {},
   "outputs": [
    {
     "name": "stdout",
     "output_type": "stream",
     "text": [
      "가장 많이 타는 역 : 신림 2호선 610634 명\n",
      "가장 많이 내리는 역 : 강남 2호선 731210 명\n"
     ]
    }
   ],
   "source": [
    "# 4-12 지하철 시간대별 데이터 시각화하기\n",
    "# 4-12-2 출근 시간대 사람들이 가장 많이 타고 내리는 역\n",
    "\n",
    "import csv\n",
    "import matplotlib.pyplot as plt\n",
    "\n",
    "f = open('subwaytime2008.csv', encoding='utf-8-sig')\n",
    "data = csv.reader(f)\n",
    "\n",
    "next(data)\n",
    "next(data)\n",
    "result = []\n",
    "mxup = 0\n",
    "mxup_station = ''\n",
    "mxdn = 0\n",
    "mxdn_station = ''\n",
    "\n",
    "for row in data :\n",
    "    for i in range(len(row)) :\n",
    "        row[i] = row[i].replace(\",\",\"\")   # 인원 수에서 쉼표 제거\n",
    "    del row[-1]                           # 마지막열 작업 날짜 시간 제거\n",
    "    \n",
    "    row[4:] = map(int, row[4:])\n",
    "\n",
    "    if sum(row[10:15:2]) > mxup :\n",
    "        mxup = sum(row[10:15:2])\n",
    "        mxup_station = row[3]+' '+row[1]\n",
    "    if sum(row[11:16:2]) > mxdn :\n",
    "        mxdn = sum(row[11:16:2])\n",
    "        mxdn_station = row[3]+' '+row[1]\n",
    "\n",
    "print('가장 많이 타는 역 :', mxup_station, mxup, '명')\n",
    "print('가장 많이 내리는 역 :', mxdn_station, mxdn, '명')"
   ]
  }
 ],
 "metadata": {
  "kernelspec": {
   "display_name": "Python 3",
   "language": "python",
   "name": "python3"
  },
  "language_info": {
   "codemirror_mode": {
    "name": "ipython",
    "version": 3
   },
   "file_extension": ".py",
   "mimetype": "text/x-python",
   "name": "python",
   "nbconvert_exporter": "python",
   "pygments_lexer": "ipython3",
   "version": "3.8.3"
  }
 },
 "nbformat": 4,
 "nbformat_minor": 4
}
