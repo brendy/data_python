{
 "cells": [
  {
   "cell_type": "code",
   "execution_count": 2,
   "metadata": {},
   "outputs": [
    {
     "name": "stdout",
     "output_type": "stream",
     "text": [
      "1225\n"
     ]
    }
   ],
   "source": [
    "print(35**2)"
   ]
  },
  {
   "cell_type": "code",
   "execution_count": 4,
   "metadata": {},
   "outputs": [
    {
     "name": "stdout",
     "output_type": "stream",
     "text": [
      "hello world\n"
     ]
    }
   ],
   "source": [
    "print('hello world')"
   ]
  },
  {
   "cell_type": "code",
   "execution_count": 5,
   "metadata": {},
   "outputs": [
    {
     "name": "stdout",
     "output_type": "stream",
     "text": [
      "파이손\n"
     ]
    }
   ],
   "source": [
    "name = '파이손'\n",
    "print(name)"
   ]
  },
  {
   "cell_type": "code",
   "execution_count": 6,
   "metadata": {},
   "outputs": [
    {
     "name": "stdout",
     "output_type": "stream",
     "text": [
      "파이손님 안녕하세요?\n"
     ]
    }
   ],
   "source": [
    "name = '파이손'\n",
    "print(name+'님 안녕하세요?')"
   ]
  },
  {
   "cell_type": "code",
   "execution_count": 7,
   "metadata": {},
   "outputs": [
    {
     "name": "stdin",
     "output_type": "stream",
     "text": [
      " 표원홍\n"
     ]
    },
    {
     "name": "stdout",
     "output_type": "stream",
     "text": [
      "표원홍님! 안녕하세요?\n"
     ]
    }
   ],
   "source": [
    "name = input()\n",
    "print(name+'님! 안녕하세요?')"
   ]
  },
  {
   "cell_type": "code",
   "execution_count": 8,
   "metadata": {},
   "outputs": [
    {
     "name": "stdin",
     "output_type": "stream",
     "text": [
      "이름을 입력해 주세요: 표원홍\n"
     ]
    },
    {
     "name": "stdout",
     "output_type": "stream",
     "text": [
      "표원홍님! 안녕하세요?\n"
     ]
    }
   ],
   "source": [
    "name = input('이름을 입력해 주세요:')\n",
    "print(name+'님! 안녕하세요?')"
   ]
  },
  {
   "cell_type": "code",
   "execution_count": 16,
   "metadata": {},
   "outputs": [
    {
     "name": "stdin",
     "output_type": "stream",
     "text": [
      "나이를 입력해주세요. :  44\n"
     ]
    },
    {
     "name": "stdout",
     "output_type": "stream",
     "text": [
      "40\n"
     ]
    }
   ],
   "source": [
    "age = int(input('나이를 입력해주세요. : '))\n",
    "print(age - 4)"
   ]
  },
  {
   "cell_type": "code",
   "execution_count": 15,
   "metadata": {},
   "outputs": [
    {
     "name": "stdout",
     "output_type": "stream",
     "text": [
      "1\n"
     ]
    }
   ],
   "source": [
    "print(3//2)"
   ]
  },
  {
   "cell_type": "code",
   "execution_count": 17,
   "metadata": {},
   "outputs": [
    {
     "name": "stdin",
     "output_type": "stream",
     "text": [
      "이름을 입력해주세요 :  표원홍\n",
      "나이를 입력해주세요 :  46\n"
     ]
    },
    {
     "name": "stdout",
     "output_type": "stream",
     "text": [
      "안녕하세요? 표원홍님, 저는 처음에 42살인 줄 알았어요.\n"
     ]
    }
   ],
   "source": [
    "name = input('이름을 입력해주세요 : ')\n",
    "age = int(input('나이를 입력해주세요 : '))\n",
    "print('안녕하세요?', name+'님, 저는 처음에 ' + str(age - 4) + '살인 줄 알았어요.')"
   ]
  },
  {
   "cell_type": "code",
   "execution_count": 24,
   "metadata": {},
   "outputs": [
    {
     "name": "stdout",
     "output_type": "stream",
     "text": [
      "1.5\n"
     ]
    }
   ],
   "source": [
    "print(3/2)"
   ]
  },
  {
   "cell_type": "code",
   "execution_count": 25,
   "metadata": {},
   "outputs": [
    {
     "name": "stdout",
     "output_type": "stream",
     "text": [
      "True\n",
      "False\n",
      "False\n",
      "True\n",
      "True\n"
     ]
    }
   ],
   "source": [
    "print(10 >= 3)\n",
    "print(10 <= 3)\n",
    "print(10 == 3)\n",
    "print(10 != 3)\n",
    "print(3%2 >= 1)"
   ]
  },
  {
   "cell_type": "code",
   "execution_count": 26,
   "metadata": {},
   "outputs": [
    {
     "name": "stdout",
     "output_type": "stream",
     "text": [
      "5\n"
     ]
    }
   ],
   "source": [
    "# 289쪽 random 숫자 범위 바꾸기\n",
    "\n",
    "import random\n",
    "dice = random.randint(1,6)\n",
    "print(dice)"
   ]
  },
  {
   "cell_type": "code",
   "execution_count": 47,
   "metadata": {},
   "outputs": [
    {
     "name": "stdout",
     "output_type": "stream",
     "text": [
      "2 1\n",
      "3 2\n",
      "1 3\n",
      "1 4\n",
      "4 5\n",
      "4 6\n",
      "2 7\n",
      "3 8\n",
      "5 9\n"
     ]
    }
   ],
   "source": [
    "import random\n",
    "for i in range(1, 10) :\n",
    "    dice = random.randint(1,6)\n",
    "    print(dice, i)"
   ]
  },
  {
   "cell_type": "code",
   "execution_count": 36,
   "metadata": {},
   "outputs": [
    {
     "name": "stdout",
     "output_type": "stream",
     "text": [
      "1.4142135623730951\n"
     ]
    }
   ],
   "source": [
    "import math\n",
    "print(math.sqrt(2))"
   ]
  },
  {
   "cell_type": "code",
   "execution_count": 37,
   "metadata": {},
   "outputs": [
    {
     "name": "stdout",
     "output_type": "stream",
     "text": [
      "파\n",
      "이\n",
      "썬\n",
      "은\n",
      " \n",
      "재\n",
      "미\n",
      "있\n",
      "다\n",
      ".\n"
     ]
    }
   ],
   "source": [
    "name = '파이썬은 재미있다.'\n",
    "for i in name :\n",
    "    print(i)"
   ]
  },
  {
   "cell_type": "code",
   "execution_count": 39,
   "metadata": {},
   "outputs": [
    {
     "name": "stdout",
     "output_type": "stream",
     "text": [
      "뽀로로\n",
      "루피\n",
      "크롱\n",
      "포비\n"
     ]
    }
   ],
   "source": [
    "names = ['뽀로로', '루피', '크롱', '포비']\n",
    "for i in names :\n",
    "    print(i)"
   ]
  },
  {
   "cell_type": "code",
   "execution_count": 40,
   "metadata": {},
   "outputs": [
    {
     "name": "stdout",
     "output_type": "stream",
     "text": [
      "0\n",
      "1\n",
      "8\n",
      "27\n"
     ]
    }
   ],
   "source": [
    "for i in [0, 1, 2, 3] :\n",
    "    print(i**3)"
   ]
  },
  {
   "cell_type": "code",
   "execution_count": 49,
   "metadata": {},
   "outputs": [
    {
     "name": "stdout",
     "output_type": "stream",
     "text": [
      "0\n",
      "1\n",
      "4\n",
      "9\n",
      "16\n",
      "25\n",
      "36\n",
      "49\n",
      "64\n",
      "81\n"
     ]
    }
   ],
   "source": [
    "for i in range(10) :\n",
    "    print(i**2)"
   ]
  },
  {
   "cell_type": "code",
   "execution_count": 48,
   "metadata": {},
   "outputs": [
    {
     "name": "stdout",
     "output_type": "stream",
     "text": [
      "1\n",
      "3\n",
      "6\n",
      "10\n",
      "15\n",
      "21\n",
      "28\n",
      "36\n",
      "45\n",
      "55\n"
     ]
    }
   ],
   "source": [
    "a = 0\n",
    "for i in range(1, 11) :\n",
    "    a = a + i\n",
    "    print(a)"
   ]
  },
  {
   "cell_type": "code",
   "execution_count": 53,
   "metadata": {},
   "outputs": [
    {
     "name": "stdout",
     "output_type": "stream",
     "text": [
      "비밀번호는 1531입니다.\n"
     ]
    }
   ],
   "source": [
    "for i in range(10000) :\n",
    "    if i == 1531 :\n",
    "        print ('비밀번호는 ' + str(i) + '입니다.' )"
   ]
  },
  {
   "cell_type": "code",
   "execution_count": 54,
   "metadata": {},
   "outputs": [
    {
     "name": "stdout",
     "output_type": "stream",
     "text": [
      "뽀로로\n",
      "루피\n",
      "크롱\n",
      "포비\n",
      "['뽀로로', '루피']\n",
      "['루피', '크롱']\n",
      "['루피', '크롱', '포비']\n",
      "['뽀로로', '루피', '크롱', '포비']\n"
     ]
    }
   ],
   "source": [
    "names = ['뽀로로', '루피', '크롱', '포비']\n",
    "print(names[0])\n",
    "print(names[1])\n",
    "print(names[2])\n",
    "print(names[3])\n",
    "print(names[0:2])\n",
    "print(names[1:3])\n",
    "print(names[1:])\n",
    "print(names[:])"
   ]
  },
  {
   "cell_type": "code",
   "execution_count": 56,
   "metadata": {},
   "outputs": [
    {
     "name": "stdout",
     "output_type": "stream",
     "text": [
      "['뽀로로', '루피', '크롱', '포비', '나미']\n"
     ]
    }
   ],
   "source": [
    "names = ['뽀로로', '루피', '크롱', '포비']\n",
    "names.append('나미') #리스트에 값 추가하기\n",
    "print(names)"
   ]
  },
  {
   "cell_type": "code",
   "execution_count": 58,
   "metadata": {},
   "outputs": [
    {
     "name": "stdout",
     "output_type": "stream",
     "text": [
      "5\n",
      "26\n"
     ]
    }
   ],
   "source": [
    "names = ['뽀로로', '루피', '크롱', '포비', '키티']\n",
    "print(len(names))\n",
    "print(len('data analysis for everyone'))"
   ]
  },
  {
   "cell_type": "code",
   "execution_count": 60,
   "metadata": {},
   "outputs": [
    {
     "name": "stdout",
     "output_type": "stream",
     "text": [
      "['뽀로로', '루피', '크롱', '포비', '키티']\n",
      "['뽀로로', '루피', '크롱', '포비', '키티', '해적왕']\n",
      "뽀로로 왔나요~?\n",
      "해적왕 왔나요~?\n"
     ]
    }
   ],
   "source": [
    "names = ['뽀로로', '루피', '크롱', '포비', '키티']\n",
    "print(names)\n",
    "names.append('해적왕')\n",
    "print(names)\n",
    "for i in names :\n",
    "    if len(i) > 2 :\n",
    "        print(i, '왔나요~?')"
   ]
  },
  {
   "cell_type": "code",
   "execution_count": null,
   "metadata": {},
   "outputs": [],
   "source": []
  }
 ],
 "metadata": {
  "kernelspec": {
   "display_name": "Python 3",
   "language": "python",
   "name": "python3"
  },
  "language_info": {
   "codemirror_mode": {
    "name": "ipython",
    "version": 3
   },
   "file_extension": ".py",
   "mimetype": "text/x-python",
   "name": "python",
   "nbconvert_exporter": "python",
   "pygments_lexer": "ipython3",
   "version": "3.8.3"
  }
 },
 "nbformat": 4,
 "nbformat_minor": 4
}
